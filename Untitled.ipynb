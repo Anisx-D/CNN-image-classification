{
 "cells": [
  {
   "attachments": {},
   "cell_type": "markdown",
   "id": "4b51c062",
   "metadata": {},
   "source": [
    "importing libraries"
   ]
  },
  {
   "cell_type": "code",
   "execution_count": null,
   "id": "184574f4",
   "metadata": {},
   "outputs": [],
   "source": [
    "import keras  \n",
    "import os\n",
    "import glob \n",
    "from skimage import io \n",
    "import numpy as np\n",
    "import matplotlib.pyplot as plt  \n",
    "import tensorflow as tf\n",
    "from tensorflow import keras\n",
    "from keras import layers\n",
    "from keras.models import Sequential"
   ]
  },
  {
   "attachments": {},
   "cell_type": "markdown",
   "id": "f7876c67",
   "metadata": {},
   "source": [
    "Importing and Loading the data into a data frame"
   ]
  },
  {
   "cell_type": "code",
   "execution_count": null,
   "id": "24e4e138",
   "metadata": {},
   "outputs": [],
   "source": [
    "dataset_path = #path\n",
    "class_names = #catagories"
   ]
  },
  {
   "attachments": {},
   "cell_type": "markdown",
   "id": "c2446d37",
   "metadata": {},
   "source": [
    "applying glob module to retrieve files/pathnames  "
   ]
  },
  {
   "cell_type": "code",
   "execution_count": null,
   "id": "c94a991a",
   "metadata": {},
   "outputs": [],
   "source": [
    "scan_path = os.path.join(dataset_path, class_names[1], '*')\n",
    "scan_path = glob.glob(scan_path)"
   ]
  },
  {
   "attachments": {},
   "cell_type": "markdown",
   "id": "38a3cb30",
   "metadata": {},
   "source": [
    "accessing an image file from the dataset classes"
   ]
  },
  {
   "cell_type": "code",
   "execution_count": null,
   "id": "25222ab2",
   "metadata": {},
   "outputs": [],
   "source": [
    "image = io.imread(scan_path[4])  "
   ]
  },
  {
   "attachments": {},
   "cell_type": "markdown",
   "id": "8af39e36",
   "metadata": {},
   "source": [
    "plotting the original image"
   ]
  },
  {
   "cell_type": "code",
   "execution_count": null,
   "id": "583cb972",
   "metadata": {},
   "outputs": [],
   "source": [
    "i, (im1) = plt.subplots(1)\n",
    "i.set_figwidth(15)\n",
    "im1.imshow(image)"
   ]
  },
  {
   "cell_type": "code",
   "execution_count": null,
   "id": "b76ea600",
   "metadata": {},
   "outputs": [],
   "source": [
    "batch_size = 32\n",
    "img_height = 180\n",
    "img_width = 180\n",
    "\n",
    "\n",
    "train_ds = tf.keras.utils.image_dataset_from_directory(\n",
    "  dataset_path,\n",
    "  validation_split=0.2,\n",
    "  subset=\"training\",\n",
    "  seed=123,\n",
    "  image_size=(img_height, img_width),\n",
    "  batch_size=batch_size)\n",
    "\n",
    "val_ds = tf.keras.utils.image_dataset_from_directory(\n",
    "  dataset_path,\n",
    "  validation_split=0.2,\n",
    "  subset=\"validation\",\n",
    "  seed=123,\n",
    "  image_size=(img_height, img_width),\n",
    "  batch_size=batch_size)\n",
    "\n",
    "class_names = train_ds.class_names\n",
    "print(class_names)\n",
    "\n",
    "plt.figure(figsize=(10, 10))\n",
    "for images, labels in train_ds.take(1):\n",
    "  for i in range(9):\n",
    "    ax = plt.subplot(3, 3, i + 1)\n",
    "    plt.imshow(images[i].numpy().astype(\"uint8\"))\n",
    "    plt.title(class_names[labels[i]])\n",
    "    plt.axis(\"off\")\n",
    "\n",
    "\n",
    "\n",
    "AUTOTUNE = tf.data.AUTOTUNE\n",
    "\n",
    "train_ds = train_ds.cache().shuffle(1000).prefetch(buffer_size=AUTOTUNE)\n",
    "val_ds = val_ds.cache().prefetch(buffer_size=AUTOTUNE)\n",
    "\n",
    "\n",
    "normalization_layer = layers.Rescaling(1./255)\n",
    "\n",
    "\n",
    "normalized_ds = train_ds.map(lambda x, y: (normalization_layer(x), y))\n",
    "image_batch, labels_batch = next(iter(normalized_ds))\n",
    "first_image = image_batch[0]"
   ]
  },
  {
   "attachments": {},
   "cell_type": "markdown",
   "id": "09c2570d",
   "metadata": {},
   "source": [
    "Notice the pixel values are now in [0,1]"
   ]
  },
  {
   "cell_type": "code",
   "execution_count": null,
   "id": "ececbbea",
   "metadata": {},
   "outputs": [],
   "source": [
    "print(np.min(first_image), np.max(first_image))\n",
    "\n",
    "num_classes = len(class_names)"
   ]
  },
  {
   "attachments": {},
   "cell_type": "markdown",
   "id": "ec043153",
   "metadata": {},
   "source": [
    "data augmentation"
   ]
  },
  {
   "cell_type": "code",
   "execution_count": null,
   "id": "1a0a10aa",
   "metadata": {},
   "outputs": [],
   "source": [
    "data_augmentation = keras.Sequential(\n",
    "  [\n",
    "    layers.RandomFlip(\"horizontal\",\n",
    "                      input_shape=(img_height,\n",
    "                                  img_width,\n",
    "                                  3)),\n",
    "    layers.RandomRotation(0.1),\n",
    "    layers.RandomZoom(0.1),\n",
    "  ]\n",
    ")\n",
    "\n",
    "\n",
    "\n",
    "model = Sequential([\n",
    "  data_augmentation,\n",
    "  layers.Rescaling(1./255),\n",
    "  layers.Conv2D(16, 3, padding='same', activation='relu'),\n",
    "  layers.MaxPooling2D(),\n",
    "  layers.Conv2D(32, 3, padding='same', activation='relu'),\n",
    "  layers.MaxPooling2D(),\n",
    "  layers.Conv2D(64, 3, padding='same', activation='relu'),\n",
    "  layers.MaxPooling2D(),\n",
    "  layers.Dropout(0.2),\n",
    "  layers.Flatten(),\n",
    "  layers.Dense(128, activation='relu'),\n",
    "  layers.Dense(num_classes, name=\"outputs\")\n",
    "])\n",
    "\n",
    "model.compile(optimizer='adam',\n",
    "              loss=tf.keras.losses.SparseCategoricalCrossentropy(from_logits=True),\n",
    "              metrics=['accuracy'])\n",
    "\n",
    "model.summary()\n",
    "\n",
    "epochs = 200\n",
    "history = model.fit(\n",
    "  train_ds,\n",
    "  validation_data=val_ds,\n",
    "  epochs=epochs,\n",
    "\n",
    ")\n",
    "\n",
    "acc = history.history['accuracy']\n",
    "val_acc = history.history['val_accuracy']\n",
    "\n",
    "loss = history.history['loss']\n",
    "val_loss = history.history['val_loss']\n",
    "\n",
    "epochs_range = range(epochs)\n",
    "\n",
    "plt.figure(figsize=(8, 8))\n",
    "plt.subplot(1, 2, 1)\n",
    "plt.plot(epochs_range, acc, label='Training Accuracy')\n",
    "plt.plot(epochs_range, val_acc, label='Validation Accuracy')\n",
    "plt.legend(loc='lower right')\n",
    "plt.title('Training and Validation Accuracy')\n",
    "\n",
    "plt.subplot(1, 2, 2)\n",
    "plt.plot(epochs_range, loss, label='Training Loss')\n",
    "plt.plot(epochs_range, val_loss, label='Validation Loss')\n",
    "plt.legend(loc='upper right')\n",
    "plt.title('Training and Validation Loss')\n",
    "plt.show()"
   ]
  },
  {
   "attachments": {},
   "cell_type": "markdown",
   "id": "90f2f88c",
   "metadata": {},
   "source": [
    "serializing model to JSON"
   ]
  },
  {
   "cell_type": "code",
   "execution_count": null,
   "id": "c7469279",
   "metadata": {},
   "outputs": [],
   "source": [
    "model_json = model.to_json()\n",
    "with open(\"model.json\", \"w\") as json_file:\n",
    "    json_file.write(model_json)"
   ]
  },
  {
   "attachments": {},
   "cell_type": "markdown",
   "id": "c807b050",
   "metadata": {},
   "source": [
    "serializing model to h5 "
   ]
  },
  {
   "cell_type": "code",
   "execution_count": null,
   "id": "7994f17d",
   "metadata": {},
   "outputs": [],
   "source": [
    "model.save(r\"#path\",save_format=\"h5\")\n",
    "print(\"saved model on disk\")"
   ]
  },
  {
   "attachments": {},
   "cell_type": "markdown",
   "id": "eda74eaa",
   "metadata": {},
   "source": [
    "prediction"
   ]
  },
  {
   "cell_type": "code",
   "execution_count": null,
   "id": "8c324acc",
   "metadata": {},
   "outputs": [],
   "source": [
    "img_url = r\"#urlpath\" #IMAGE URL\n",
    "img_path = tf.keras.utils.get_file('1', origin=img_url)\n",
    "\n",
    "img = tf.keras.utils.load_img(\n",
    "    img_path, target_size=(img_height, img_width)\n",
    ")\n",
    "img_array = tf.keras.utils.img_to_array(img)\n",
    "img_array = tf.expand_dims(img_array, 0) # Create a batch\n",
    "\n",
    "predictions = model.predict(img_array)\n",
    "score = tf.nn.softmax(predictions[0])\n",
    "\n",
    "print(\n",
    "    \"This image most likely belongs to {} with a {:.2f} percent confidence.\"\n",
    "    .format(class_names[np.argmax(score)], 100 * np.max(score))\n",
    ")"
   ]
  }
 ],
 "metadata": {
  "kernelspec": {
   "display_name": "Python 3 (ipykernel)",
   "language": "python",
   "name": "python3"
  },
  "language_info": {
   "codemirror_mode": {
    "name": "ipython",
    "version": 3
   },
   "file_extension": ".py",
   "mimetype": "text/x-python",
   "name": "python",
   "nbconvert_exporter": "python",
   "pygments_lexer": "ipython3",
   "version": "3.11.4"
  }
 },
 "nbformat": 4,
 "nbformat_minor": 5
}
